{
 "cells": [
  {
   "cell_type": "code",
   "execution_count": null,
   "metadata": {},
   "outputs": [],
   "source": [
    "#1. Write a function that takes a list of lists and returns the value of all of the\n",
    "#symbols in it, where each symbol adds or takes something from the total\n",
    "#score. Symbol values:\n",
    "def check_score(x):\n",
    "    symbols ={\"#\":5,\"O\" : 3,\"X\" : 1,\"!\" : -1,\"!!\" : -3,\"!!!\" : -5}\n",
    "    sum =0\n",
    "    for li in x:\n",
    "        for sub in li:\n",
    "            if sub in symbols.keys():\n",
    "                sum = sum + symbols[sub]\n",
    "    if sum > 0:\n",
    "        print('The socre is {}'.format(sum))\n",
    "    else:\n",
    "        print('The score is 0')"
   ]
  },
  {
   "cell_type": "code",
   "execution_count": null,
   "metadata": {},
   "outputs": [],
   "source": [
    "check_score([['#','!'],[\"!!\",\"X\"]])"
   ]
  },
  {
   "cell_type": "code",
   "execution_count": null,
   "metadata": {},
   "outputs": [],
   "source": [
    "check_score([[\"!!!\", \"O\", \"!\"],[\"X\", \"#\", \"!!!\"],[\"!!\", \"X\", \"O\"]])\n"
   ]
  },
  {
   "cell_type": "code",
   "execution_count": null,
   "metadata": {},
   "outputs": [],
   "source": [
    "#2. Create a function that takes a variable number of arguments, each argument representing the number of items in a group,\n",
    "#and returns the number of permutations (combinations) of items that you could get by taking one item from each group.\n",
    "def permutations(*args):\n",
    "    perm = 1\n",
    "    for i in args:\n",
    "        perm = perm *i\n",
    "    print('The no of permutations are {}'.format(perm))"
   ]
  },
  {
   "cell_type": "code",
   "execution_count": null,
   "metadata": {},
   "outputs": [],
   "source": [
    "permutations(2,3,4,5)"
   ]
  },
  {
   "cell_type": "code",
   "execution_count": null,
   "metadata": {},
   "outputs": [],
   "source": [
    "#3. Create a function that takes a string as an argument and returns the Morse code equivalent\n",
    "def encode_morse(sentence):\n",
    "    char_to_dots = {'A': '.-', 'B': '-...', 'C': '-.-.', 'D': '-..', 'E': '.', 'F': '..-.','G': '--.',\\\n",
    "                    'H': '....', 'I': '..', 'J': '.---', 'K': '-.-', 'L': '.-..','M': '--', 'N': '-.', \\\n",
    "                    'O': '---', 'P': '.--.', 'Q': '--.-', 'R': '.-.','S': '...', 'T': '-', 'U': '..-',\\\n",
    "                    'V': '...-', 'W': '.--', 'X': '-..-',  'Y': '-.--', 'Z': '--..', ' ': ' ', '0': '-----',\\\n",
    "                    '1': '.----', '2': '..---', '3': '...--', '4': '....-', '5': '.....',  '6': '-....', '7': '--...'\\\n",
    "                    , '8': '---..', '9': '----.','&': '.-...', \"'\": '.----.', '@': '.--.-.', ')': '-.--.-', '(': '-.--.',\\\n",
    "                    ':': '---...', ',': '--..--', '=': '-...-', '!': '-.-.--', '.': '.-.-.-','-': '-....-', '+': '.-.-.',\\\n",
    "                    '\"': '.-..-.', '?': '..--..', '/': '-..-.'}\n",
    "    morse_list = []\n",
    "    for i in sentence:\n",
    "        morse_list.append(char_to_dots[i])\n",
    "    morse = \"\".join(str(x) for x in morse_list)\n",
    "    print(morse)"
   ]
  },
  {
   "cell_type": "code",
   "execution_count": null,
   "metadata": {},
   "outputs": [],
   "source": [
    "encode_morse(\"HELP ME !\")"
   ]
  },
  {
   "cell_type": "code",
   "execution_count": null,
   "metadata": {},
   "outputs": [],
   "source": [
    "encode_morse(\"EDABBIT CHALLENGE\")"
   ]
  },
  {
   "cell_type": "code",
   "execution_count": 9,
   "metadata": {},
   "outputs": [],
   "source": [
    "#4.Write a function that takes a number and returns True if it's a prime; False otherwise. \n",
    "#The number can be 2^64-1 (2 to the power of 63, not XOR). With the standard technique it would be O(2^64-1), \n",
    "#which is much too large for the 10 second time limit.\n",
    "import time\n",
    "def prime(x):\n",
    "    ti = time.time()\n",
    "    if x > 2**63:\n",
    "        print('False')\n",
    "    else:\n",
    "        test = True\n",
    "        for i in range(x-1,1,-1):\n",
    "            if time.time()-ti > 10:\n",
    "                print('False')\n",
    "                test=\"\"\n",
    "                break\n",
    "            if x %i==0:\n",
    "                test = False\n",
    "                break\n",
    "        if test != \"\":\n",
    "            if test == False:\n",
    "                print('False')\n",
    "            else:\n",
    "                print('True')"
   ]
  },
  {
   "cell_type": "code",
   "execution_count": 10,
   "metadata": {},
   "outputs": [
    {
     "name": "stdout",
     "output_type": "stream",
     "text": [
      "False\n"
     ]
    }
   ],
   "source": [
    "prime(5151512515524)"
   ]
  },
  {
   "cell_type": "code",
   "execution_count": 11,
   "metadata": {},
   "outputs": [
    {
     "name": "stdout",
     "output_type": "stream",
     "text": [
      "True\n"
     ]
    }
   ],
   "source": [
    "prime(56963) "
   ]
  },
  {
   "cell_type": "code",
   "execution_count": 12,
   "metadata": {},
   "outputs": [
    {
     "name": "stdout",
     "output_type": "stream",
     "text": [
      "True\n"
     ]
    }
   ],
   "source": [
    "prime(7) "
   ]
  },
  {
   "cell_type": "code",
   "execution_count": 28,
   "metadata": {},
   "outputs": [],
   "source": [
    "#5 BOOLEAN LIST\n",
    "def to_boolean_list(x):\n",
    "    li = []\n",
    "    for i in x:\n",
    "        num = ord(i.lower())-96\n",
    "        if num %2==0:\n",
    "            li.append(bool(0))\n",
    "        else:\n",
    "            li.append(bool(1))\n",
    "    return li"
   ]
  },
  {
   "cell_type": "code",
   "execution_count": 29,
   "metadata": {},
   "outputs": [
    {
     "data": {
      "text/plain": [
       "[False, True, False, True, True]"
      ]
     },
     "execution_count": 29,
     "metadata": {},
     "output_type": "execute_result"
    }
   ],
   "source": [
    "to_boolean_list(\"loves\") "
   ]
  },
  {
   "cell_type": "code",
   "execution_count": 30,
   "metadata": {},
   "outputs": [
    {
     "data": {
      "text/plain": [
       "[False, True, True, False]"
      ]
     },
     "execution_count": 30,
     "metadata": {},
     "output_type": "execute_result"
    }
   ],
   "source": [
    "to_boolean_list(\"deep\") "
   ]
  },
  {
   "cell_type": "code",
   "execution_count": 31,
   "metadata": {},
   "outputs": [
    {
     "data": {
      "text/plain": [
       "[False, True, True, False]"
      ]
     },
     "execution_count": 31,
     "metadata": {},
     "output_type": "execute_result"
    }
   ],
   "source": [
    "to_boolean_list(\"tesh\") "
   ]
  }
 ],
 "metadata": {
  "kernelspec": {
   "display_name": "Python 3",
   "language": "python",
   "name": "python3"
  },
  "language_info": {
   "codemirror_mode": {
    "name": "ipython",
    "version": 3
   },
   "file_extension": ".py",
   "mimetype": "text/x-python",
   "name": "python",
   "nbconvert_exporter": "python",
   "pygments_lexer": "ipython3",
   "version": "3.8.5"
  }
 },
 "nbformat": 4,
 "nbformat_minor": 4
}
