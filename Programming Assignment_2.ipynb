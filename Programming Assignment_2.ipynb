{
 "cells": [
  {
   "cell_type": "code",
   "execution_count": 1,
   "metadata": {},
   "outputs": [],
   "source": [
    "#1 CONVERT KILOMETERS TO MILES\n",
    "def km_to_miles(x):\n",
    "    return x/1.609344"
   ]
  },
  {
   "cell_type": "code",
   "execution_count": 4,
   "metadata": {},
   "outputs": [
    {
     "name": "stdout",
     "output_type": "stream",
     "text": [
      "Enter kms1\n"
     ]
    },
    {
     "data": {
      "text/plain": [
       "0.621371192237334"
      ]
     },
     "execution_count": 4,
     "metadata": {},
     "output_type": "execute_result"
    }
   ],
   "source": [
    "km_to_miles(int(input('Enter kms')))"
   ]
  },
  {
   "cell_type": "code",
   "execution_count": 5,
   "metadata": {},
   "outputs": [],
   "source": [
    "#2 Celsius to  farenheit\n",
    "def celsius_to_faren(x):\n",
    "    return x*9/5+32"
   ]
  },
  {
   "cell_type": "code",
   "execution_count": 7,
   "metadata": {},
   "outputs": [
    {
     "name": "stdout",
     "output_type": "stream",
     "text": [
      "Enter temperature in celsius30\n"
     ]
    },
    {
     "data": {
      "text/plain": [
       "86.0"
      ]
     },
     "execution_count": 7,
     "metadata": {},
     "output_type": "execute_result"
    }
   ],
   "source": [
    "celsius_to_faren(int(input('Enter temperature in celsius')))"
   ]
  },
  {
   "cell_type": "code",
   "execution_count": 8,
   "metadata": {},
   "outputs": [],
   "source": [
    "#3 show calendar\n",
    "import calendar\n"
   ]
  },
  {
   "cell_type": "code",
   "execution_count": 13,
   "metadata": {},
   "outputs": [
    {
     "name": "stdout",
     "output_type": "stream",
     "text": [
      "enter the year2020\n",
      "enter the month2\n",
      "   February 2020\n",
      "Mo Tu We Th Fr Sa Su\n",
      "                1  2\n",
      " 3  4  5  6  7  8  9\n",
      "10 11 12 13 14 15 16\n",
      "17 18 19 20 21 22 23\n",
      "24 25 26 27 28 29\n",
      "\n"
     ]
    }
   ],
   "source": [
    "\n",
    "print(calendar.month(int(input('enter the year')),int(input('enter the month'))))"
   ]
  },
  {
   "cell_type": "code",
   "execution_count": 15,
   "metadata": {},
   "outputs": [],
   "source": [
    "import math"
   ]
  },
  {
   "cell_type": "code",
   "execution_count": 28,
   "metadata": {},
   "outputs": [],
   "source": [
    "#4 solving a quadratic equation of form a*x**2+b*x+c\n",
    "import math\n",
    "def quad(a,b,c):\n",
    "    if b**2-4*a*c >=0:\n",
    "        print ('the roots are {} , {}'.format((-b + math.sqrt(b**2-4*a*c))/(2*a),(-b - math.sqrt(b**2-4*a*c))/(2*a)))\n",
    "    else:\n",
    "        print('There are no real roots')"
   ]
  },
  {
   "cell_type": "code",
   "execution_count": 31,
   "metadata": {},
   "outputs": [
    {
     "name": "stdout",
     "output_type": "stream",
     "text": [
      "the roots are -0.7250827823646251 , -8.274917217635375\n"
     ]
    }
   ],
   "source": [
    "quad(1,9,6)"
   ]
  },
  {
   "cell_type": "code",
   "execution_count": 36,
   "metadata": {},
   "outputs": [
    {
     "name": "stdout",
     "output_type": "stream",
     "text": [
      "enter the 1st variable123\n",
      "enter the 2nd variable321\n",
      "the variables before swapping 123,321\n",
      "the variables after swapping 321,123\n"
     ]
    }
   ],
   "source": [
    "#Swapping without third variable\n",
    "x,y = int(input('enter the 1st variable')),int(input('enter the 2nd variable'))\n",
    "print('the variables before swapping {},{}'.format(x,y))\n",
    "x = x + y\n",
    "y = x - y\n",
    "x = x -y\n",
    "print('the variables after swapping {},{}'.format(x,y))"
   ]
  },
  {
   "cell_type": "code",
   "execution_count": null,
   "metadata": {},
   "outputs": [],
   "source": []
  }
 ],
 "metadata": {
  "kernelspec": {
   "display_name": "Python 3",
   "language": "python",
   "name": "python3"
  },
  "language_info": {
   "codemirror_mode": {
    "name": "ipython",
    "version": 3
   },
   "file_extension": ".py",
   "mimetype": "text/x-python",
   "name": "python",
   "nbconvert_exporter": "python",
   "pygments_lexer": "ipython3",
   "version": "3.8.5"
  }
 },
 "nbformat": 4,
 "nbformat_minor": 4
}
