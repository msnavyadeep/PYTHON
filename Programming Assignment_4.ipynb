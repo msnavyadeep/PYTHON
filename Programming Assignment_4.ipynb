{
 "cells": [
  {
   "cell_type": "code",
   "execution_count": 1,
   "metadata": {},
   "outputs": [],
   "source": [
    "#1 Factorial\n",
    "def factorial(x):\n",
    "    fact = 1\n",
    "    for i in range(2,x+1):\n",
    "        fact = fact * i\n",
    "    print('The factorial of given number is {}'.format(fact))"
   ]
  },
  {
   "cell_type": "code",
   "execution_count": 6,
   "metadata": {},
   "outputs": [
    {
     "name": "stdout",
     "output_type": "stream",
     "text": [
      "The factorial of given number is 1307674368000\n"
     ]
    }
   ],
   "source": [
    "factorial(15)"
   ]
  },
  {
   "cell_type": "code",
   "execution_count": 7,
   "metadata": {},
   "outputs": [],
   "source": [
    "#2 Multiplication table for 1-10\n",
    "def multiply(x):\n",
    "    for i in range(1,11):\n",
    "        print(\"{} X {} = {}\".format(x,i,x*i))"
   ]
  },
  {
   "cell_type": "code",
   "execution_count": 9,
   "metadata": {},
   "outputs": [
    {
     "name": "stdout",
     "output_type": "stream",
     "text": [
      "11 X 1 = 11\n",
      "11 X 2 = 22\n",
      "11 X 3 = 33\n",
      "11 X 4 = 44\n",
      "11 X 5 = 55\n",
      "11 X 6 = 66\n",
      "11 X 7 = 77\n",
      "11 X 8 = 88\n",
      "11 X 9 = 99\n",
      "11 X 10 = 110\n"
     ]
    }
   ],
   "source": [
    "multiply(11)"
   ]
  },
  {
   "cell_type": "code",
   "execution_count": 26,
   "metadata": {},
   "outputs": [],
   "source": [
    "#3 Fibonacci sequence - function to print x number of Fibonacci numbers\n",
    "def fibonacci(x):\n",
    "    fib1=0\n",
    "    fib2=1\n",
    "    if x ==1:\n",
    "        print(fib1)\n",
    "    elif x==2:\n",
    "        print(fib1)\n",
    "        print(fib2)\n",
    "    else:\n",
    "        print(fib1)\n",
    "        print(fib2)\n",
    "        for i in range(1,x-1):\n",
    "            fib3 = fib2 + fib1\n",
    "            print(fib3)\n",
    "            fib1 = fib2\n",
    "            fib2 = fib3\n",
    "        "
   ]
  },
  {
   "cell_type": "code",
   "execution_count": 30,
   "metadata": {},
   "outputs": [
    {
     "name": "stdout",
     "output_type": "stream",
     "text": [
      "0\n",
      "1\n",
      "1\n",
      "2\n",
      "3\n",
      "5\n",
      "8\n",
      "13\n",
      "21\n",
      "34\n",
      "55\n",
      "89\n",
      "144\n",
      "233\n",
      "377\n",
      "610\n",
      "987\n",
      "1597\n",
      "2584\n",
      "4181\n",
      "6765\n",
      "10946\n",
      "17711\n",
      "28657\n",
      "46368\n"
     ]
    }
   ],
   "source": [
    "fibonacci(25)"
   ]
  },
  {
   "cell_type": "code",
   "execution_count": 34,
   "metadata": {},
   "outputs": [],
   "source": [
    "#4 program to check armstrong number\n",
    "def armstrong(x):\n",
    "    str1 = str(x)\n",
    "    n = len(str1)\n",
    "    num=0\n",
    "    for i in str1:\n",
    "        num = num + int(i)**n\n",
    "    if x== num:\n",
    "        print('The given number is an armstrong number')\n",
    "    else:\n",
    "        print('The given number is not an armstrong number')\n",
    "    "
   ]
  },
  {
   "cell_type": "code",
   "execution_count": 40,
   "metadata": {},
   "outputs": [
    {
     "name": "stdout",
     "output_type": "stream",
     "text": [
      "The given number is an armstrong number\n"
     ]
    }
   ],
   "source": [
    "armstrong(371)"
   ]
  },
  {
   "cell_type": "code",
   "execution_count": 41,
   "metadata": {},
   "outputs": [
    {
     "name": "stdout",
     "output_type": "stream",
     "text": [
      "The given number is not an armstrong number\n"
     ]
    }
   ],
   "source": [
    "armstrong(372)"
   ]
  },
  {
   "cell_type": "code",
   "execution_count": 42,
   "metadata": {},
   "outputs": [],
   "source": [
    "#5 find armstrong numbers in an interval\n",
    "def find_armstrong(x,y):\n",
    "    for i in range(x,y+1):\n",
    "        str1 = str(i)\n",
    "        n = len(str1)\n",
    "        num=0\n",
    "        for j in str1:\n",
    "            num = num + int(j)**n\n",
    "        if i== num:\n",
    "            print(i)\n",
    "    "
   ]
  },
  {
   "cell_type": "code",
   "execution_count": 45,
   "metadata": {},
   "outputs": [
    {
     "name": "stdout",
     "output_type": "stream",
     "text": [
      "1\n",
      "2\n",
      "3\n",
      "4\n",
      "5\n",
      "6\n",
      "7\n",
      "8\n",
      "9\n",
      "153\n",
      "370\n",
      "371\n",
      "407\n"
     ]
    }
   ],
   "source": [
    "find_armstrong(1,500)"
   ]
  },
  {
   "cell_type": "code",
   "execution_count": null,
   "metadata": {},
   "outputs": [],
   "source": [
    "#6sum of n natural numbers\n",
    "def sum_natural(n):\n",
    "    print(the sum of {} natural numbers is )"
   ]
  }
 ],
 "metadata": {
  "kernelspec": {
   "display_name": "Python 3",
   "language": "python",
   "name": "python3"
  },
  "language_info": {
   "codemirror_mode": {
    "name": "ipython",
    "version": 3
   },
   "file_extension": ".py",
   "mimetype": "text/x-python",
   "name": "python",
   "nbconvert_exporter": "python",
   "pygments_lexer": "ipython3",
   "version": "3.8.5"
  }
 },
 "nbformat": 4,
 "nbformat_minor": 4
}
