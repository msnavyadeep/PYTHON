{
 "cells": [
  {
   "cell_type": "code",
   "execution_count": null,
   "metadata": {},
   "outputs": [],
   "source": [
    "#1. Write a Python Program to Find LCM\n",
    "def lcm(x,y):\n",
    "    if x > y:\n",
    "        temp =x\n",
    "    else:\n",
    "        temp =y\n",
    "    while(True):\n",
    "        if (temp%x==0) and (temp%y==0):\n",
    "            print('The LCM is {}'.format(temp))\n",
    "            break\n",
    "        else:\n",
    "            temp +=1"
   ]
  },
  {
   "cell_type": "code",
   "execution_count": null,
   "metadata": {},
   "outputs": [],
   "source": [
    "lcm(5,11)"
   ]
  },
  {
   "cell_type": "code",
   "execution_count": null,
   "metadata": {},
   "outputs": [],
   "source": [
    "#2. Write a Python Program to Find HCF?\n",
    "def hcf(x,y):\n",
    "    if x ==0 or y==0:\n",
    "        return print('HCF is 0')\n",
    "    if x > y:\n",
    "        temp =y\n",
    "    else:\n",
    "        temp =x\n",
    "    for i in range(temp,1,-1):\n",
    "        if x%i==0 and y%i ==0:\n",
    "            print('The HCF is {}'.format(i))\n",
    "            break"
   ]
  },
  {
   "cell_type": "code",
   "execution_count": null,
   "metadata": {},
   "outputs": [],
   "source": [
    "hcf(100,20)"
   ]
  },
  {
   "cell_type": "code",
   "execution_count": 71,
   "metadata": {},
   "outputs": [],
   "source": [
    "#3. Write a Python Program to Convert Decimal to Binary, Octal and Hexadecimal?\n",
    "def decimal(x):\n",
    "    temp = x\n",
    "    binary = \"\"\n",
    "    while True:\n",
    "        rem = temp%2\n",
    "        binary = binary + str(rem)\n",
    "        quo = int(temp/2)\n",
    "        temp = quo\n",
    "        if temp==0:\n",
    "            print('The binary form is {}'.format(binary[::-1]))\n",
    "            break\n",
    "    temp = x\n",
    "    octal = \"\"\n",
    "    while True:\n",
    "        rem = temp%8\n",
    "        octal = octal + str(rem)\n",
    "        quo = int(temp/8)\n",
    "        temp = quo\n",
    "        if temp == 0:\n",
    "            print('The octal form is {}'.format(octal[::-1]))\n",
    "            break\n",
    "    temp = x\n",
    "    hexa_list = []\n",
    "    hexa_dict={10:\"A\",11:\"B\",12:\"C\",13:\"D\",14:\"E\",15:\"F\"}\n",
    "    while True:\n",
    "        rem = temp%16\n",
    "        hexa_list.append(rem)\n",
    "        quo = int(temp/16)\n",
    "        temp = quo\n",
    "        if temp == 0:\n",
    "            hexa_list = hexa_list[::-1]\n",
    "            for i in range(0,len(hexa_list)):\n",
    "                if hexa_list[i] in hexa_dict.keys():\n",
    "                    hexa_list[i]=hexa_dict[hexa_list[i]]\n",
    "            hexa = \"\".join(str(a) for a in hexa_list ) \n",
    "            print('The octal form is {}'.format(hexa))\n",
    "            break        "
   ]
  },
  {
   "cell_type": "code",
   "execution_count": 72,
   "metadata": {},
   "outputs": [
    {
     "name": "stdout",
     "output_type": "stream",
     "text": [
      "The binary form is 1111000000\n",
      "The octal form is 1700\n",
      "The octal form is 3C0\n"
     ]
    }
   ],
   "source": [
    "decimal(960)"
   ]
  },
  {
   "cell_type": "code",
   "execution_count": 1,
   "metadata": {},
   "outputs": [],
   "source": [
    "#4. Write a Python Program To Find ASCII value of a character?\n",
    "def ascii(x):\n",
    "    print('The ASCII value of {} is {}'.format(x,ord(x)))"
   ]
  },
  {
   "cell_type": "code",
   "execution_count": 7,
   "metadata": {},
   "outputs": [
    {
     "name": "stdout",
     "output_type": "stream",
     "text": [
      "The ASCII value of / is 47\n"
     ]
    }
   ],
   "source": [
    "ascii('/')"
   ]
  },
  {
   "cell_type": "code",
   "execution_count": 12,
   "metadata": {},
   "outputs": [],
   "source": [
    "#5. Write a Python Program to Make a Simple Calculator with 4 basic mathematical operations?\n",
    "def caluclator(a,b,operation = 'addition'):\n",
    "    '''Please enter any of the following operations as input addition or subtraction or multiplication or division\n",
    "    '''    \n",
    "    if operation == 'addition':\n",
    "        return a + b\n",
    "    elif operation == 'subtraction':\n",
    "        return a-b\n",
    "    elif operation == 'multiplication':\n",
    "        return a*b\n",
    "    elif opeation == 'division':\n",
    "        return a/b\n",
    "    else:\n",
    "        print('operation is out of scope of this caluclator')"
   ]
  },
  {
   "cell_type": "code",
   "execution_count": 14,
   "metadata": {},
   "outputs": [
    {
     "data": {
      "text/plain": [
       "-1"
      ]
     },
     "execution_count": 14,
     "metadata": {},
     "output_type": "execute_result"
    }
   ],
   "source": [
    "caluclator(5,6,'subtraction')"
   ]
  },
  {
   "cell_type": "code",
   "execution_count": null,
   "metadata": {},
   "outputs": [],
   "source": []
  }
 ],
 "metadata": {
  "kernelspec": {
   "display_name": "Python 3",
   "language": "python",
   "name": "python3"
  },
  "language_info": {
   "codemirror_mode": {
    "name": "ipython",
    "version": 3
   },
   "file_extension": ".py",
   "mimetype": "text/x-python",
   "name": "python",
   "nbconvert_exporter": "python",
   "pygments_lexer": "ipython3",
   "version": "3.8.5"
  }
 },
 "nbformat": 4,
 "nbformat_minor": 4
}
